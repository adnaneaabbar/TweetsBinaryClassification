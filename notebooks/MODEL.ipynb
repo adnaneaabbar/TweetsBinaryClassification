{
 "cells": [
  {
   "cell_type": "code",
   "execution_count": 1,
   "metadata": {},
   "outputs": [],
   "source": [
    "import pandas as pd\n",
    "import numpy as np\n",
    "from sklearn.model_selection import train_test_split\n",
    "from sklearn.pipeline import Pipeline\n",
    "from sklearn.linear_model import SGDClassifier\n",
    "from sklearn.linear_model import Perceptron\n",
    "from sklearn.linear_model import LogisticRegression\n",
    "from sklearn.ensemble import RandomForestClassifier\n",
    "from sklearn.ensemble import GradientBoostingClassifier\n",
    "from sklearn.neighbors import KNeighborsClassifier\n",
    "from sklearn.feature_extraction.text import TfidfVectorizer\n",
    "\n",
    "from sklearn.metrics import accuracy_score\n",
    "from sklearn.metrics import classification_report\n",
    "from sklearn.metrics import classification_report\n",
    "\n",
    "from sklearn.model_selection import cross_val_score\n",
    "from sklearn.model_selection import RepeatedStratifiedKFold"
   ]
  },
  {
   "cell_type": "code",
   "execution_count": 2,
   "metadata": {},
   "outputs": [],
   "source": [
    "train = pd.read_csv(\"./data/trainP.csv\")\n",
    "\n",
    "# Splitting data\n",
    "X_train, X_test, Y_train, Y_test = train_test_split(train[\"TweetText\"], train[\"Label\"], test_size=0.2, random_state=42, shuffle=True)"
   ]
  },
  {
   "cell_type": "markdown",
   "metadata": {},
   "source": [
    "# Train models"
   ]
  },
  {
   "cell_type": "markdown",
   "metadata": {},
   "source": [
    "## Logistic Regression"
   ]
  },
  {
   "cell_type": "code",
   "execution_count": 3,
   "metadata": {},
   "outputs": [
    {
     "name": "stdout",
     "output_type": "stream",
     "text": [
      "              precision    recall  f1-score   support\n",
      "\n",
      "    Politics      0.954     0.947     0.950       638\n",
      "      Sports      0.949     0.957     0.953       667\n",
      "\n",
      "    accuracy                          0.952      1305\n",
      "   macro avg      0.952     0.952     0.952      1305\n",
      "weighted avg      0.952     0.952     0.952      1305\n",
      "\n"
     ]
    }
   ],
   "source": [
    "lr = Pipeline([('tfidf', TfidfVectorizer()),('lr', LogisticRegression()),])\n",
    "lr.fit(X_train, Y_train)\n",
    "test_predict = lr.predict(X_test)\n",
    "lr_tra = lr.score(X_train,Y_train)\n",
    "lr_ta = accuracy_score(test_predict, Y_test)\n",
    "print(classification_report(Y_test, test_predict, target_names=(\"Politics\", \"Sports\"), digits=3))"
   ]
  },
  {
   "cell_type": "markdown",
   "metadata": {},
   "source": [
    "## SGD Classifier"
   ]
  },
  {
   "cell_type": "code",
   "execution_count": 4,
   "metadata": {},
   "outputs": [
    {
     "name": "stdout",
     "output_type": "stream",
     "text": [
      "              precision    recall  f1-score   support\n",
      "\n",
      "    Politics      0.954     0.948     0.951       638\n",
      "      Sports      0.951     0.957     0.954       667\n",
      "\n",
      "    accuracy                          0.952      1305\n",
      "   macro avg      0.953     0.952     0.952      1305\n",
      "weighted avg      0.953     0.952     0.952      1305\n",
      "\n"
     ]
    }
   ],
   "source": [
    "sgd = Pipeline([('tfidf', TfidfVectorizer()),('sgd', SGDClassifier()),])\n",
    "sgd.fit(X_train, Y_train)\n",
    "test_predict = sgd.predict(X_test)\n",
    "sgd_tra = sgd.score(X_train,Y_train)\n",
    "sgd_ta = accuracy_score(test_predict, Y_test)\n",
    "print(classification_report(Y_test, test_predict, target_names=(\"Politics\", \"Sports\"), digits=3))"
   ]
  },
  {
   "cell_type": "markdown",
   "metadata": {},
   "source": [
    "## RandomForest Classifier"
   ]
  },
  {
   "cell_type": "code",
   "execution_count": 5,
   "metadata": {},
   "outputs": [
    {
     "name": "stdout",
     "output_type": "stream",
     "text": [
      "              precision    recall  f1-score   support\n",
      "\n",
      "    Politics      0.953     0.887     0.919       638\n",
      "      Sports      0.899     0.958     0.927       667\n",
      "\n",
      "    accuracy                          0.923      1305\n",
      "   macro avg      0.926     0.923     0.923      1305\n",
      "weighted avg      0.925     0.923     0.923      1305\n",
      "\n"
     ]
    }
   ],
   "source": [
    "rf =  Pipeline([('tfidf', TfidfVectorizer()),('rf', RandomForestClassifier()),])\n",
    "rf.fit(X_train, Y_train)\n",
    "test_predict = rf.predict(X_test)\n",
    "rf_tra = rf.score(X_train,Y_train)\n",
    "rf_ta = accuracy_score(test_predict, Y_test)\n",
    "print(classification_report(Y_test, test_predict, target_names=(\"Politics\", \"Sports\"), digits=3))"
   ]
  },
  {
   "cell_type": "markdown",
   "metadata": {},
   "source": [
    "## Gradient Boosting Classfier"
   ]
  },
  {
   "cell_type": "code",
   "execution_count": 6,
   "metadata": {},
   "outputs": [
    {
     "name": "stdout",
     "output_type": "stream",
     "text": [
      "              precision    recall  f1-score   support\n",
      "\n",
      "    Politics      0.956     0.677     0.793       638\n",
      "      Sports      0.758     0.970     0.851       667\n",
      "\n",
      "    accuracy                          0.827      1305\n",
      "   macro avg      0.857     0.824     0.822      1305\n",
      "weighted avg      0.855     0.827     0.823      1305\n",
      "\n"
     ]
    }
   ],
   "source": [
    "gdb =  Pipeline([('tfidf', TfidfVectorizer()),('gdb', GradientBoostingClassifier()),])\n",
    "gdb.fit(X_train, Y_train)\n",
    "test_predict = gdb.predict(X_test)\n",
    "gdb_tra = gdb.score(X_train,Y_train)\n",
    "gdb_ta = accuracy_score(test_predict, Y_test)\n",
    "print(classification_report(Y_test, test_predict, target_names=(\"Politics\", \"Sports\"), digits=3))"
   ]
  },
  {
   "cell_type": "markdown",
   "metadata": {},
   "source": [
    "## KNeighborsClassifier"
   ]
  },
  {
   "cell_type": "code",
   "execution_count": 7,
   "metadata": {},
   "outputs": [
    {
     "name": "stdout",
     "output_type": "stream",
     "text": [
      "              precision    recall  f1-score   support\n",
      "\n",
      "    Politics      0.935     0.926     0.931       638\n",
      "      Sports      0.930     0.939     0.934       667\n",
      "\n",
      "    accuracy                          0.933      1305\n",
      "   macro avg      0.933     0.932     0.933      1305\n",
      "weighted avg      0.933     0.933     0.933      1305\n",
      "\n"
     ]
    }
   ],
   "source": [
    "knn =  Pipeline([('tfidf', TfidfVectorizer()),('knn', KNeighborsClassifier(1)),])\n",
    "knn.fit(X_train, Y_train)\n",
    "test_predict = knn.predict(X_test)\n",
    "knn_tra = knn.score(X_train,Y_train)\n",
    "knn_ta = accuracy_score(test_predict, Y_test)\n",
    "print(classification_report(Y_test, test_predict, target_names=(\"Politics\", \"Sports\"), digits=3))"
   ]
  },
  {
   "cell_type": "markdown",
   "metadata": {},
   "source": [
    "# Evaluate models"
   ]
  },
  {
   "cell_type": "code",
   "execution_count": 8,
   "metadata": {
    "scrolled": false
   },
   "outputs": [
    {
     "name": "stdout",
     "output_type": "stream",
     "text": [
      "|              |        Logistic Regression       |            SGD            |        RandomForest              |    Gradient Boosting      |       KNeighbors          |\n",
      "| Dataset Type | Train Score     | Test Score     |Train Score   | Test Score | Train Score     | Test Score     |Train Score   | Test Score |Train Score   | Test Score |\n",
      "| Score        | 0.9893          | 0.9517         | 1.0000       | 0.9525     | 1.0000          | 0.9234         | 0.8617       | 0.8268     | 1.0000       | 0.9326     |\n"
     ]
    }
   ],
   "source": [
    "print(\"|              |        Logistic Regression       |            SGD            |        RandomForest              |    Gradient Boosting      |       KNeighbors          |\")\n",
    "print(\"| Dataset Type | Train Score     | Test Score     |Train Score   | Test Score | Train Score     | Test Score     |Train Score   | Test Score |Train Score   | Test Score |\")\n",
    "print(\"| Score        | {:.4f}          | {:.4f}         | {:.4f}       | {:.4f}     | {:.4f}          | {:.4f}         | {:.4f}       | {:.4f}     | {:.4f}       | {:.4f}     |\".format(lr_tra, lr_ta, sgd_tra, sgd_ta, rf_tra, rf_ta, gdb_tra, gdb_ta, knn_tra, knn_ta))"
   ]
  },
  {
   "cell_type": "markdown",
   "metadata": {},
   "source": [
    "# CrossValidation "
   ]
  },
  {
   "cell_type": "code",
   "execution_count": 9,
   "metadata": {},
   "outputs": [
    {
     "name": "stdout",
     "output_type": "stream",
     "text": [
      "Pipeline(steps=[('tfidf', TfidfVectorizer()), ('lr', LogisticRegression())]) accuracy: 0.941 (0.010)\n",
      "Pipeline(steps=[('tfidf', TfidfVectorizer()), ('sgd', SGDClassifier())]) accuracy: 0.951 (0.009)\n",
      "Pipeline(steps=[('tfidf', TfidfVectorizer()), ('rf', RandomForestClassifier())]) accuracy: 0.920 (0.011)\n",
      "Pipeline(steps=[('tfidf', TfidfVectorizer()),\n",
      "                ('gdb', GradientBoostingClassifier())]) accuracy: 0.837 (0.014)\n",
      "Pipeline(steps=[('tfidf', TfidfVectorizer()),\n",
      "                ('knn', KNeighborsClassifier(n_neighbors=1))]) accuracy: 0.919 (0.010)\n"
     ]
    }
   ],
   "source": [
    "pipelines = [lr, sgd, rf, gdb, knn]\n",
    "cv = RepeatedStratifiedKFold(n_splits=10, n_repeats=3, random_state=1)\n",
    "for model in pipelines:\n",
    "    m_scores = cross_val_score(model, X_train, Y_train, scoring='accuracy', cv=cv, n_jobs=-1, error_score='raise')\n",
    "    print(f'{model} accuracy: %.3f (%.3f)' % (np.mean(m_scores), np.std(m_scores)))"
   ]
  },
  {
   "cell_type": "markdown",
   "metadata": {},
   "source": [
    "# Selection "
   ]
  },
  {
   "cell_type": "markdown",
   "metadata": {},
   "source": [
    "We select the SGD Classifier as the better model for our task.\n",
    "Let's now try it on unlabeled data."
   ]
  },
  {
   "cell_type": "code",
   "execution_count": 10,
   "metadata": {},
   "outputs": [
    {
     "name": "stdout",
     "output_type": "stream",
     "text": [
      "                 TweetId                                          TweetText\n",
      "0     306486520121012224  home stab bennett wide get threaten 28 throw y...\n",
      "1     286353402605228032  series httptcoygjepjkf mass pound avoirdupois ...\n",
      "2     289531046037438464  sochi2014 construction shore along httptco8dvi...\n",
      "3     306451661403062273  httptco4qx0fhypmp foreign video transcript htt...\n",
      "4     297941800658812928  player first usd ricky go 400000 iplauction in...\n",
      "...                  ...                                                ...\n",
      "2605  282023761044189184  eliminator chidambaram home runnersup played q...\n",
      "2606  303879735006601216  reesedward 16 peacekeeping here httptcoex2tad8...\n",
      "2607  297956846046703616  first ipl sunrisersipl purchase iplauction perera\n",
      "2608  304265049537658880  seckerry thanks welcome statedept4us reprobert...\n",
      "2609  306430391928115200  account here picture room staff httptcohdf9uwn...\n",
      "\n",
      "[2610 rows x 2 columns]\n"
     ]
    }
   ],
   "source": [
    "test = pd.read_csv(\"./data/testP.csv\")\n",
    "print(test)"
   ]
  },
  {
   "cell_type": "code",
   "execution_count": 11,
   "metadata": {},
   "outputs": [],
   "source": [
    "test_predict = sgd.predict(test[\"TweetText\"].apply(lambda x: np.str_(x)))\n",
    "test[\"Label\"] = test_predict"
   ]
  },
  {
   "cell_type": "code",
   "execution_count": 12,
   "metadata": {},
   "outputs": [
    {
     "data": {
      "text/html": [
       "<div>\n",
       "<style scoped>\n",
       "    .dataframe tbody tr th:only-of-type {\n",
       "        vertical-align: middle;\n",
       "    }\n",
       "\n",
       "    .dataframe tbody tr th {\n",
       "        vertical-align: top;\n",
       "    }\n",
       "\n",
       "    .dataframe thead th {\n",
       "        text-align: right;\n",
       "    }\n",
       "</style>\n",
       "<table border=\"1\" class=\"dataframe\">\n",
       "  <thead>\n",
       "    <tr style=\"text-align: right;\">\n",
       "      <th></th>\n",
       "      <th>TweetId</th>\n",
       "      <th>TweetText</th>\n",
       "      <th>Label</th>\n",
       "    </tr>\n",
       "  </thead>\n",
       "  <tbody>\n",
       "    <tr>\n",
       "      <th>0</th>\n",
       "      <td>306486520121012224</td>\n",
       "      <td>home stab bennett wide get threaten 28 throw y...</td>\n",
       "      <td>Sports</td>\n",
       "    </tr>\n",
       "    <tr>\n",
       "      <th>1</th>\n",
       "      <td>286353402605228032</td>\n",
       "      <td>series httptcoygjepjkf mass pound avoirdupois ...</td>\n",
       "      <td>Sports</td>\n",
       "    </tr>\n",
       "    <tr>\n",
       "      <th>2</th>\n",
       "      <td>289531046037438464</td>\n",
       "      <td>sochi2014 construction shore along httptco8dvi...</td>\n",
       "      <td>Politics</td>\n",
       "    </tr>\n",
       "    <tr>\n",
       "      <th>3</th>\n",
       "      <td>306451661403062273</td>\n",
       "      <td>httptco4qx0fhypmp foreign video transcript htt...</td>\n",
       "      <td>Politics</td>\n",
       "    </tr>\n",
       "    <tr>\n",
       "      <th>4</th>\n",
       "      <td>297941800658812928</td>\n",
       "      <td>player first usd ricky go 400000 iplauction in...</td>\n",
       "      <td>Sports</td>\n",
       "    </tr>\n",
       "    <tr>\n",
       "      <th>5</th>\n",
       "      <td>305722428531802112</td>\n",
       "      <td>fabiano viswanathan draw caruana httptco35gg3n...</td>\n",
       "      <td>Sports</td>\n",
       "    </tr>\n",
       "    <tr>\n",
       "      <th>6</th>\n",
       "      <td>304713516256997377</td>\n",
       "      <td>lfctvliverpoolfccom tweet u lfctv tonight emai...</td>\n",
       "      <td>Sports</td>\n",
       "    </tr>\n",
       "    <tr>\n",
       "      <th>7</th>\n",
       "      <td>234999630725783553</td>\n",
       "      <td>begin paralympic olympics follow sure latest u...</td>\n",
       "      <td>Politics</td>\n",
       "    </tr>\n",
       "    <tr>\n",
       "      <th>8</th>\n",
       "      <td>303712268372283392</td>\n",
       "      <td>thanks big compliment richaanirudh</td>\n",
       "      <td>Sports</td>\n",
       "    </tr>\n",
       "    <tr>\n",
       "      <th>9</th>\n",
       "      <td>304215754130194432</td>\n",
       "      <td>espargarxf3 polespargaro two nhttptcocubrd27q ...</td>\n",
       "      <td>Sports</td>\n",
       "    </tr>\n",
       "    <tr>\n",
       "      <th>10</th>\n",
       "      <td>305498714527633408</td>\n",
       "      <td>demonstration attack compassion lack represent...</td>\n",
       "      <td>Politics</td>\n",
       "    </tr>\n",
       "    <tr>\n",
       "      <th>11</th>\n",
       "      <td>302482560242565120</td>\n",
       "      <td>ibnlive pope africa next rt httptcogyezqvb8 vi...</td>\n",
       "      <td>Sports</td>\n",
       "    </tr>\n",
       "    <tr>\n",
       "      <th>12</th>\n",
       "      <td>305496375985070080</td>\n",
       "      <td>httptcoyqhgyogjvp enhances network asia centra...</td>\n",
       "      <td>Politics</td>\n",
       "    </tr>\n",
       "    <tr>\n",
       "      <th>13</th>\n",
       "      <td>305562747888865280</td>\n",
       "      <td>foreign amp african republic unsg kimoon centr...</td>\n",
       "      <td>Politics</td>\n",
       "    </tr>\n",
       "    <tr>\n",
       "      <th>14</th>\n",
       "      <td>302124227975335937</td>\n",
       "      <td>no1 httptco4xaitf38 valeyellow46 enryborghi wo...</td>\n",
       "      <td>Politics</td>\n",
       "    </tr>\n",
       "    <tr>\n",
       "      <th>15</th>\n",
       "      <td>279308630564679680</td>\n",
       "      <td>agreement centralafricanrepublic violence sign...</td>\n",
       "      <td>Politics</td>\n",
       "    </tr>\n",
       "    <tr>\n",
       "      <th>16</th>\n",
       "      <td>294826406272188416</td>\n",
       "      <td>anniversary unsg call httptcoqwtcd6ba dialogue...</td>\n",
       "      <td>Politics</td>\n",
       "    </tr>\n",
       "    <tr>\n",
       "      <th>17</th>\n",
       "      <td>304688274469969920</td>\n",
       "      <td>one striker four mishit jamie beyond back lfc ...</td>\n",
       "      <td>Sports</td>\n",
       "    </tr>\n",
       "    <tr>\n",
       "      <th>18</th>\n",
       "      <td>234244701153288192</td>\n",
       "      <td>petereedrowing amp mark village tomjames2012 r...</td>\n",
       "      <td>Sports</td>\n",
       "    </tr>\n",
       "    <tr>\n",
       "      <th>19</th>\n",
       "      <td>274267981998075904</td>\n",
       "      <td>progress depending improved link iraq httptcop...</td>\n",
       "      <td>Politics</td>\n",
       "    </tr>\n",
       "  </tbody>\n",
       "</table>\n",
       "</div>"
      ],
      "text/plain": [
       "               TweetId                                          TweetText  \\\n",
       "0   306486520121012224  home stab bennett wide get threaten 28 throw y...   \n",
       "1   286353402605228032  series httptcoygjepjkf mass pound avoirdupois ...   \n",
       "2   289531046037438464  sochi2014 construction shore along httptco8dvi...   \n",
       "3   306451661403062273  httptco4qx0fhypmp foreign video transcript htt...   \n",
       "4   297941800658812928  player first usd ricky go 400000 iplauction in...   \n",
       "5   305722428531802112  fabiano viswanathan draw caruana httptco35gg3n...   \n",
       "6   304713516256997377  lfctvliverpoolfccom tweet u lfctv tonight emai...   \n",
       "7   234999630725783553  begin paralympic olympics follow sure latest u...   \n",
       "8   303712268372283392                 thanks big compliment richaanirudh   \n",
       "9   304215754130194432  espargarxf3 polespargaro two nhttptcocubrd27q ...   \n",
       "10  305498714527633408  demonstration attack compassion lack represent...   \n",
       "11  302482560242565120  ibnlive pope africa next rt httptcogyezqvb8 vi...   \n",
       "12  305496375985070080  httptcoyqhgyogjvp enhances network asia centra...   \n",
       "13  305562747888865280  foreign amp african republic unsg kimoon centr...   \n",
       "14  302124227975335937  no1 httptco4xaitf38 valeyellow46 enryborghi wo...   \n",
       "15  279308630564679680  agreement centralafricanrepublic violence sign...   \n",
       "16  294826406272188416  anniversary unsg call httptcoqwtcd6ba dialogue...   \n",
       "17  304688274469969920  one striker four mishit jamie beyond back lfc ...   \n",
       "18  234244701153288192  petereedrowing amp mark village tomjames2012 r...   \n",
       "19  274267981998075904  progress depending improved link iraq httptcop...   \n",
       "\n",
       "       Label  \n",
       "0     Sports  \n",
       "1     Sports  \n",
       "2   Politics  \n",
       "3   Politics  \n",
       "4     Sports  \n",
       "5     Sports  \n",
       "6     Sports  \n",
       "7   Politics  \n",
       "8     Sports  \n",
       "9     Sports  \n",
       "10  Politics  \n",
       "11    Sports  \n",
       "12  Politics  \n",
       "13  Politics  \n",
       "14  Politics  \n",
       "15  Politics  \n",
       "16  Politics  \n",
       "17    Sports  \n",
       "18    Sports  \n",
       "19  Politics  "
      ]
     },
     "execution_count": 12,
     "metadata": {},
     "output_type": "execute_result"
    }
   ],
   "source": [
    "test.head(20)"
   ]
  },
  {
   "cell_type": "code",
   "execution_count": 13,
   "metadata": {},
   "outputs": [
    {
     "name": "stderr",
     "output_type": "stream",
     "text": [
      "C:\\Users\\aabba\\AppData\\Local\\Programs\\Python\\Python37\\lib\\site-packages\\ipykernel_launcher.py:1: FutureWarning: In a future version of pandas all arguments of DataFrame.drop except for the argument 'labels' will be keyword-only\n",
      "  \"\"\"Entry point for launching an IPython kernel.\n"
     ]
    }
   ],
   "source": [
    "test = test.drop(\"TweetText\",1)\n",
    "test.to_csv('./data/submission.csv', index=False)\n",
    "\n",
    "from pickle import dump\n",
    "dump(lr, open('lr.pkl', 'wb'))\n",
    "dump(sgd, open('sgd.pkl', 'wb'))\n",
    "dump(rf, open('rf.pkl', 'wb'))\n",
    "dump(gdb, open('gdb.pkl', 'wb'))\n",
    "dump(knn, open('knn.pkl', 'wb'))"
   ]
  }
 ],
 "metadata": {
  "kernelspec": {
   "display_name": "Python 3.7.4 64-bit",
   "language": "python",
   "name": "python37464bit2d2a7b7d88554f6bbdade15fa4e28b95"
  },
  "language_info": {
   "codemirror_mode": {
    "name": "ipython",
    "version": 3
   },
   "file_extension": ".py",
   "mimetype": "text/x-python",
   "name": "python",
   "nbconvert_exporter": "python",
   "pygments_lexer": "ipython3",
   "version": "3.7.4"
  }
 },
 "nbformat": 4,
 "nbformat_minor": 4
}